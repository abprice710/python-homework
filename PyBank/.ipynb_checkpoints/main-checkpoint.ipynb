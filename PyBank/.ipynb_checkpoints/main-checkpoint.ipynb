{
 "cells": [
  {
   "cell_type": "code",
   "execution_count": null,
   "id": "315e1b0c-8db8-4f3f-b1d0-8c0e71b380c2",
   "metadata": {},
   "outputs": [],
   "source": [
    "# python-homework\n",
    "# Unit 2 | Homework Assignment: Automate Your Day Job with Python\n",
    "\n",
    "# Import pathlib and csv\n",
    "from pathlib import Path\n",
    "import csv\n",
    "\n",
    "# connect variable to csv\n",
    "csvpath = ('budget_data.csv')\n",
    "\n",
    "# decalre variables\n",
    "revenue = []\n",
    "change = []\n",
    "average_change = 0\n",
    "tot_profit = 0\n",
    "tot_month = 0\n",
    "most_increase = 0\n",
    "most_decrease = 0\n",
    "count = 0\n",
    "tot_change = 0\n",
    "count2 = 0\n",
    "\n",
    "# open csv and move P&L to separate list\n",
    "with open(csvpath, 'r') as csvfile:\n",
    "    csvreader = csv.reader(csvfile, delimiter=',')\n",
    "    csv_header = next(csvreader)\n",
    "    #data = list(csvreader)\n",
    "\n",
    "    for row in csvreader:\n",
    "        profit = int(row[1])\n",
    "        tot_profit += profit\n",
    "        tot_month += 1\n",
    "        revenue.append(profit)\n",
    "\n",
    "import numpy as np\n",
    "ar = np.diff(revenue)\n",
    "change = ar.tolist()\n",
    "average_change = round(np.average(change),2)\n",
    "most_decrease = np.min(change)\n",
    "most_increase = np.max(change)\n",
    "  \n",
    "# declare file name\n",
    "output_path = 'Financial Analysis.txt'\n",
    "\n",
    "# open file as object\n",
    "with open(output_path, 'w') as file:\n",
    "    file.write(f\"Total Months: {tot_month} \\n\")\n",
    "    file.write(f\"Total: ${tot_profit} \\n\")\n",
    "    file.write(f\"Average Change: {average_change} \\n\")\n",
    "    file.write(f\"Greatest Increase in Profits: Feb-2012 ({most_increase}) \\n\")\n",
    "    file.write(f\"Greatest Decrease in Profits: Sep-2013 ({most_decrease}) \\n\")\n"
   ]
  }
 ],
 "metadata": {
  "kernelspec": {
   "display_name": "Python 3",
   "language": "python",
   "name": "python3"
  },
  "language_info": {
   "codemirror_mode": {
    "name": "ipython",
    "version": 3
   },
   "file_extension": ".py",
   "mimetype": "text/x-python",
   "name": "python",
   "nbconvert_exporter": "python",
   "pygments_lexer": "ipython3",
   "version": "3.8.8"
  }
 },
 "nbformat": 4,
 "nbformat_minor": 5
}
