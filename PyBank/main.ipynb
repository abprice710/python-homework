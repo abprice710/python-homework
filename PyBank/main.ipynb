# python-homework
Unit 2 | Homework Assignment: Automate Your Day Job with Python

# Import pathlib and csv
from pathlib import Path
import csv

# connect variable to csv
csvpath = ('budget_data.csv')

# decalre variables
revenue = []
change = []
average_change = 0
tot_profit = 0
tot_month = 0
most_increase = 0
most_decrease = 0
count = 0
tot_change = 0
count2 = 0

# open csv and move P&L to separate list
with open(csvpath, 'r') as csvfile:
    csvreader = csv.reader(csvfile, delimiter=',')
    csv_header = next(csvreader)
    #data = list(csvreader)

    for row in csvreader:
        profit = int(row[1])
        tot_profit += profit
        tot_month += 1
        revenue.append(profit)

    print(tot_profit)
    print(tot_month)
    print(revenue)

    for row2 in revenue:
        delta = (int(revenue[-1])) -(int(revenue[-2]))
        change.append(delta)
        count += 1
    print(delta)
    print(profit)
    print(revenue[-2])
    print(change)
