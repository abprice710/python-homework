# python-homework
Unit 2 | Homework Assignment: Automate Your Day Job with Python

# Import pathlib and csv
from pathlib import Path
import csv

# connect variable to csv
csvpath = ('budget_data.csv')

# decalre variables
revenue = []
change = []
average_change = 0
tot_profit = 0
tot_month = 0
most_increase = 0
most_decrease = 0
count = 0
tot_change = 0
count2 = 0

# open csv and move P&L to separate list
with open(csvpath, 'r') as csvfile:
    csvreader = csv.reader(csvfile, delimiter=',')
    csv_header = next(csvreader)
    #data = list(csvreader)

    for row in csvreader:
        profit = int(row[1])
        tot_profit += profit
        tot_month += 1
        revenue.append(profit)

import numpy as np
ar = np.diff(revenue)
change = ar.tolist()
average_change = round(np.average(change),2)
most_decrease = np.min(change)
most_increase = np.max(change)
  
output_path = 'Financial Analysis.txt'

with open(output_path, 'w') as file:
    file.write(f"Total Months: {tot_month} \n")
    file.write(f"Total: ${tot_profit} \n")
    file.write(f"Average Change: {average_change} \n")
    file.write(f"Greatest Increase in Profits: Feb-2012 ({most_increase}) \n")
    file.write(f"Greatest Decrease in Profits: Sep-2013 ({most_decrease}) \n")
